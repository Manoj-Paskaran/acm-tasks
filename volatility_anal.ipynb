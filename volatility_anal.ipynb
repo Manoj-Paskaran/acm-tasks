{
 "cells": [
  {
   "cell_type": "code",
   "execution_count": 1,
   "id": "91faefe6",
   "metadata": {},
   "outputs": [],
   "source": [
    "import yfinance as yf\n",
    "import pandas as pd\n",
    "import plotly.express as px"
   ]
  },
  {
   "cell_type": "code",
   "execution_count": 2,
   "id": "40e141d9",
   "metadata": {},
   "outputs": [
    {
     "name": "stdout",
     "output_type": "stream",
     "text": [
      "YF.download() has changed argument auto_adjust default to True\n"
     ]
    },
    {
     "name": "stderr",
     "output_type": "stream",
     "text": [
      "[*********************100%***********************]  1 of 1 completed\n"
     ]
    }
   ],
   "source": [
    "df = yf.download(\"TCS.NS\", period=\"6mo\", multi_level_index=False)"
   ]
  },
  {
   "cell_type": "code",
   "execution_count": 3,
   "id": "9f858e7d",
   "metadata": {},
   "outputs": [
    {
     "data": {
      "text/html": [
       "<div>\n",
       "<style scoped>\n",
       "    .dataframe tbody tr th:only-of-type {\n",
       "        vertical-align: middle;\n",
       "    }\n",
       "\n",
       "    .dataframe tbody tr th {\n",
       "        vertical-align: top;\n",
       "    }\n",
       "\n",
       "    .dataframe thead th {\n",
       "        text-align: right;\n",
       "    }\n",
       "</style>\n",
       "<table border=\"1\" class=\"dataframe\">\n",
       "  <thead>\n",
       "    <tr style=\"text-align: right;\">\n",
       "      <th></th>\n",
       "      <th>Close</th>\n",
       "      <th>High</th>\n",
       "      <th>Low</th>\n",
       "      <th>Open</th>\n",
       "      <th>Volume</th>\n",
       "    </tr>\n",
       "    <tr>\n",
       "      <th>Date</th>\n",
       "      <th></th>\n",
       "      <th></th>\n",
       "      <th></th>\n",
       "      <th></th>\n",
       "      <th></th>\n",
       "    </tr>\n",
       "  </thead>\n",
       "  <tbody>\n",
       "    <tr>\n",
       "      <th>2024-11-18</th>\n",
       "      <td>3956.431152</td>\n",
       "      <td>4146.894998</td>\n",
       "      <td>3927.590842</td>\n",
       "      <td>4146.894998</td>\n",
       "      <td>3313944</td>\n",
       "    </tr>\n",
       "    <tr>\n",
       "      <th>2024-11-19</th>\n",
       "      <td>3976.166504</td>\n",
       "      <td>4067.313397</td>\n",
       "      <td>3951.115881</td>\n",
       "      <td>3956.824683</td>\n",
       "      <td>1776233</td>\n",
       "    </tr>\n",
       "    <tr>\n",
       "      <th>2024-11-21</th>\n",
       "      <td>4008.944092</td>\n",
       "      <td>4028.236409</td>\n",
       "      <td>3960.860488</td>\n",
       "      <td>3981.432456</td>\n",
       "      <td>2384347</td>\n",
       "    </tr>\n",
       "    <tr>\n",
       "      <th>2024-11-22</th>\n",
       "      <td>4177.999023</td>\n",
       "      <td>4188.186720</td>\n",
       "      <td>3990.389589</td>\n",
       "      <td>4007.122846</td>\n",
       "      <td>3096553</td>\n",
       "    </tr>\n",
       "    <tr>\n",
       "      <th>2024-11-25</th>\n",
       "      <td>4247.393066</td>\n",
       "      <td>4260.189087</td>\n",
       "      <td>4185.480109</td>\n",
       "      <td>4212.843715</td>\n",
       "      <td>4052167</td>\n",
       "    </tr>\n",
       "    <tr>\n",
       "      <th>...</th>\n",
       "      <td>...</td>\n",
       "      <td>...</td>\n",
       "      <td>...</td>\n",
       "      <td>...</td>\n",
       "      <td>...</td>\n",
       "    </tr>\n",
       "    <tr>\n",
       "      <th>2025-05-12</th>\n",
       "      <td>3620.399902</td>\n",
       "      <td>3630.500000</td>\n",
       "      <td>3502.199951</td>\n",
       "      <td>3505.000000</td>\n",
       "      <td>2228678</td>\n",
       "    </tr>\n",
       "    <tr>\n",
       "      <th>2025-05-13</th>\n",
       "      <td>3515.000000</td>\n",
       "      <td>3623.000000</td>\n",
       "      <td>3510.500000</td>\n",
       "      <td>3620.399902</td>\n",
       "      <td>3062887</td>\n",
       "    </tr>\n",
       "    <tr>\n",
       "      <th>2025-05-14</th>\n",
       "      <td>3548.699951</td>\n",
       "      <td>3561.000000</td>\n",
       "      <td>3508.600098</td>\n",
       "      <td>3521.000000</td>\n",
       "      <td>2119499</td>\n",
       "    </tr>\n",
       "    <tr>\n",
       "      <th>2025-05-15</th>\n",
       "      <td>3579.899902</td>\n",
       "      <td>3600.000000</td>\n",
       "      <td>3514.100098</td>\n",
       "      <td>3564.000000</td>\n",
       "      <td>3548330</td>\n",
       "    </tr>\n",
       "    <tr>\n",
       "      <th>2025-05-16</th>\n",
       "      <td>3561.300049</td>\n",
       "      <td>3593.899902</td>\n",
       "      <td>3546.100098</td>\n",
       "      <td>3593.899902</td>\n",
       "      <td>1666393</td>\n",
       "    </tr>\n",
       "  </tbody>\n",
       "</table>\n",
       "<p>122 rows × 5 columns</p>\n",
       "</div>"
      ],
      "text/plain": [
       "                  Close         High          Low         Open   Volume\n",
       "Date                                                                   \n",
       "2024-11-18  3956.431152  4146.894998  3927.590842  4146.894998  3313944\n",
       "2024-11-19  3976.166504  4067.313397  3951.115881  3956.824683  1776233\n",
       "2024-11-21  4008.944092  4028.236409  3960.860488  3981.432456  2384347\n",
       "2024-11-22  4177.999023  4188.186720  3990.389589  4007.122846  3096553\n",
       "2024-11-25  4247.393066  4260.189087  4185.480109  4212.843715  4052167\n",
       "...                 ...          ...          ...          ...      ...\n",
       "2025-05-12  3620.399902  3630.500000  3502.199951  3505.000000  2228678\n",
       "2025-05-13  3515.000000  3623.000000  3510.500000  3620.399902  3062887\n",
       "2025-05-14  3548.699951  3561.000000  3508.600098  3521.000000  2119499\n",
       "2025-05-15  3579.899902  3600.000000  3514.100098  3564.000000  3548330\n",
       "2025-05-16  3561.300049  3593.899902  3546.100098  3593.899902  1666393\n",
       "\n",
       "[122 rows x 5 columns]"
      ]
     },
     "execution_count": 3,
     "metadata": {},
     "output_type": "execute_result"
    }
   ],
   "source": [
    "df"
   ]
  }
 ],
 "metadata": {
  "kernelspec": {
   "display_name": ".venv",
   "language": "python",
   "name": "python3"
  },
  "language_info": {
   "codemirror_mode": {
    "name": "ipython",
    "version": 3
   },
   "file_extension": ".py",
   "mimetype": "text/x-python",
   "name": "python",
   "nbconvert_exporter": "python",
   "pygments_lexer": "ipython3",
   "version": "3.13.3"
  }
 },
 "nbformat": 4,
 "nbformat_minor": 5
}
